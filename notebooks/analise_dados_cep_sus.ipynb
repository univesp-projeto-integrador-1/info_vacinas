{
    "cells": [
        {
            "cell_type": "code",
            "execution_count": 2,
            "metadata": {},
            "outputs": [],
            "source": [
                "import os\n",
                "import pandas as pd\n",
                "from sqlalchemy import create_engine\n",
                "import pycep_correios\n",
                "import geopy"
            ]
        },
        {
            "cell_type": "code",
            "execution_count": 3,
            "metadata": {},
            "outputs": [],
            "source": [
                "from dotenv import load_dotenv\n",
                "load_dotenv()  # take environment variables from .env.\n",
                "# conexão com o banco de dados SQL Server\n",
                "engine = create_engine(os.environ.get('DATABASE_URL_SQL_SERVER'), echo=False)"
            ]
        },
        {
            "cell_type": "code",
            "execution_count": 4,
            "metadata": {},
            "outputs": [],
            "source": [
                "sql = '''\n",
                "SELECT [index]\n",
                "      ,[UF]\n",
                "      ,[MUNICIPIO]\n",
                "      ,[ESTABELECIMENTO]\n",
                "      ,[LOGRADOURO]\n",
                "      ,[NUMERO]\n",
                "      ,[BAIRRO]\n",
                "  FROM [dbo].[unidades_vacinacao]\n",
                "'''\n",
                "df = pd.read_sql(sql, engine)\n",
                "df.head()"
            ]
        },
        {
            "cell_type": "code",
            "execution_count": null,
            "metadata": {},
            "outputs": [
                {
                    "name": "stdout",
                    "output_type": "stream",
                    "text": [
                        "2022-05-16 19:39:07,942 INFO sqlalchemy.engine.base.Engine SELECT [INFORMATION_SCHEMA].[COLUMNS].[TABLE_SCHEMA], [INFORMATION_SCHEMA].[COLUMNS].[TABLE_NAME], [INFORMATION_SCHEMA].[COLUMNS].[COLUMN_NAME], [INFORMATION_SCHEMA].[COLUMNS].[IS_NULLABLE], [INFORMATION_SCHEMA].[COLUMNS].[DATA_TYPE], [INFORMATION_SCHEMA].[COLUMNS].[ORDINAL_POSITION], [INFORMATION_SCHEMA].[COLUMNS].[CHARACTER_MAXIMUM_LENGTH], [INFORMATION_SCHEMA].[COLUMNS].[NUMERIC_PRECISION], [INFORMATION_SCHEMA].[COLUMNS].[NUMERIC_SCALE], [INFORMATION_SCHEMA].[COLUMNS].[COLUMN_DEFAULT], [INFORMATION_SCHEMA].[COLUMNS].[COLLATION_NAME] \n",
                        "FROM [INFORMATION_SCHEMA].[COLUMNS] \n",
                        "WHERE [INFORMATION_SCHEMA].[COLUMNS].[TABLE_NAME] = CAST(? AS NVARCHAR(max)) AND [INFORMATION_SCHEMA].[COLUMNS].[TABLE_SCHEMA] = CAST(? AS NVARCHAR(max))\n",
                        "2022-05-16 19:39:07,944 INFO sqlalchemy.engine.base.Engine ('\\nSELECT [CNES]\\n      ,[UF]\\n      ,[IBGE]\\n      ,[NOME]\\n      ,[LOGRADOURO]\\n      ,[BAIRRO]\\n      ,[LATITUDE]\\n      ,[LONGITUDE]\\n  FROM [dbo].[cadastro_estabelecimentos_cnes]\\n', 'dbo')\n",
                        "2022-05-16 19:39:08,489 INFO sqlalchemy.engine.base.OptionEngine \n",
                        "SELECT [CNES]\n",
                        "      ,[UF]\n",
                        "      ,[IBGE]\n",
                        "      ,[NOME]\n",
                        "      ,[LOGRADOURO]\n",
                        "      ,[BAIRRO]\n",
                        "      ,[LATITUDE]\n",
                        "      ,[LONGITUDE]\n",
                        "  FROM [dbo].[cadastro_estabelecimentos_cnes]\n",
                        "\n",
                        "2022-05-16 19:39:08,490 INFO sqlalchemy.engine.base.OptionEngine ()\n"
                    ]
                },
                {
                    "data": {
                        "text/html": [
                            "<div>\n",
                            "<style scoped>\n",
                            "    .dataframe tbody tr th:only-of-type {\n",
                            "        vertical-align: middle;\n",
                            "    }\n",
                            "\n",
                            "    .dataframe tbody tr th {\n",
                            "        vertical-align: top;\n",
                            "    }\n",
                            "\n",
                            "    .dataframe thead th {\n",
                            "        text-align: right;\n",
                            "    }\n",
                            "</style>\n",
                            "<table border=\"1\" class=\"dataframe\">\n",
                            "  <thead>\n",
                            "    <tr style=\"text-align: right;\">\n",
                            "      <th></th>\n",
                            "      <th>CNES</th>\n",
                            "      <th>UF</th>\n",
                            "      <th>IBGE</th>\n",
                            "      <th>NOME</th>\n",
                            "      <th>LOGRADOURO</th>\n",
                            "      <th>BAIRRO</th>\n",
                            "      <th>LATITUDE</th>\n",
                            "      <th>LONGITUDE</th>\n",
                            "    </tr>\n",
                            "  </thead>\n",
                            "  <tbody>\n",
                            "    <tr>\n",
                            "      <th>0</th>\n",
                            "      <td>10162</td>\n",
                            "      <td>50</td>\n",
                            "      <td>500270</td>\n",
                            "      <td>SESAU UBS DR IVAN HIDELBRAND DA COSTA BURITI</td>\n",
                            "      <td>RUA JOSE SOARES DE ARAUJO</td>\n",
                            "      <td>BURITI</td>\n",
                            "      <td>-20.49071</td>\n",
                            "      <td>-54.67119</td>\n",
                            "    </tr>\n",
                            "    <tr>\n",
                            "      <th>1</th>\n",
                            "      <td>10170</td>\n",
                            "      <td>50</td>\n",
                            "      <td>500270</td>\n",
                            "      <td>SESAU UBS DR VESPASIANO BARBOSA MARTINS VILA P...</td>\n",
                            "      <td>RUA DALILA SIQUEIRA</td>\n",
                            "      <td>VILA POPULAR</td>\n",
                            "      <td>-20.45282</td>\n",
                            "      <td>-54.70452</td>\n",
                            "    </tr>\n",
                            "    <tr>\n",
                            "      <th>2</th>\n",
                            "      <td>10189</td>\n",
                            "      <td>50</td>\n",
                            "      <td>500270</td>\n",
                            "      <td>SESAU UBS DR NICOLAU FRAGELLI LAR DO TRABALHADOR</td>\n",
                            "      <td>RUA DOS NARCISOS</td>\n",
                            "      <td>LAR DO TRABALHADOR</td>\n",
                            "      <td>-20.45192</td>\n",
                            "      <td>-54.64448</td>\n",
                            "    </tr>\n",
                            "    <tr>\n",
                            "      <th>3</th>\n",
                            "      <td>10197</td>\n",
                            "      <td>50</td>\n",
                            "      <td>500270</td>\n",
                            "      <td>SESAU USF DR SUMIE IKEDA RODRIGUES SERRADINHO</td>\n",
                            "      <td>RUA DELMIRO GOUVEIA</td>\n",
                            "      <td>VILA SERRADINHO</td>\n",
                            "      <td>-20.45873</td>\n",
                            "      <td>-54.68441</td>\n",
                            "    </tr>\n",
                            "    <tr>\n",
                            "      <th>4</th>\n",
                            "      <td>10200</td>\n",
                            "      <td>50</td>\n",
                            "      <td>500270</td>\n",
                            "      <td>SESAU USF DR HIROSE ADANIA BONANCA</td>\n",
                            "      <td>RUA JARDIM SANTO INACIO</td>\n",
                            "      <td>BONANCA</td>\n",
                            "      <td>-20.49342</td>\n",
                            "      <td>-54.66122</td>\n",
                            "    </tr>\n",
                            "  </tbody>\n",
                            "</table>\n",
                            "</div>"
                        ],
                        "text/plain": [
                            "    CNES  UF    IBGE                                               NOME  \\\n",
                            "0  10162  50  500270       SESAU UBS DR IVAN HIDELBRAND DA COSTA BURITI   \n",
                            "1  10170  50  500270  SESAU UBS DR VESPASIANO BARBOSA MARTINS VILA P...   \n",
                            "2  10189  50  500270   SESAU UBS DR NICOLAU FRAGELLI LAR DO TRABALHADOR   \n",
                            "3  10197  50  500270      SESAU USF DR SUMIE IKEDA RODRIGUES SERRADINHO   \n",
                            "4  10200  50  500270                 SESAU USF DR HIROSE ADANIA BONANCA   \n",
                            "\n",
                            "                  LOGRADOURO              BAIRRO  LATITUDE  LONGITUDE  \n",
                            "0  RUA JOSE SOARES DE ARAUJO              BURITI -20.49071  -54.67119  \n",
                            "1        RUA DALILA SIQUEIRA        VILA POPULAR -20.45282  -54.70452  \n",
                            "2           RUA DOS NARCISOS  LAR DO TRABALHADOR -20.45192  -54.64448  \n",
                            "3        RUA DELMIRO GOUVEIA     VILA SERRADINHO -20.45873  -54.68441  \n",
                            "4    RUA JARDIM SANTO INACIO             BONANCA -20.49342  -54.66122  "
                        ]
                    },
                    "execution_count": 4,
                    "metadata": {},
                    "output_type": "execute_result"
                }
            ],
            "source": [
                "\n",
                "sql = '''\n",
                "SELECT [CNES]\n",
                "      ,[UF]\n",
                "      ,[IBGE]\n",
                "      ,[NOME]\n",
                "      ,[LOGRADOURO]\n",
                "      ,[BAIRRO]\n",
                "      ,[LATITUDE]\n",
                "      ,[LONGITUDE]\n",
                "  FROM [dbo].[cadastro_estabelecimentos_cnes]\n",
                "'''\n",
                "\n",
                "df = pd.read_sql(sql, engine)\n",
                "df.head()"
            ]
        },
        {
            "cell_type": "code",
            "execution_count": null,
            "metadata": {},
            "outputs": [],
            "source": []
        }
    ],
    "metadata": {
        "interpreter": {
            "hash": "3f1fa92065e83bf8b3f9b5096216ce92755ea229f7fd6780b8b3e0f199343520"
        },
        "kernelspec": {
            "display_name": "Python 3.7.9 ('base')",
            "language": "python",
            "name": "python3"
        },
        "language_info": {
            "codemirror_mode": {
                "name": "ipython",
                "version": 3
            },
            "file_extension": ".py",
            "mimetype": "text/x-python",
            "name": "python",
            "nbconvert_exporter": "python",
            "pygments_lexer": "ipython3",
            "version": "3.7.9"
        },
        "orig_nbformat": 4
    },
    "nbformat": 4,
    "nbformat_minor": 2
}
