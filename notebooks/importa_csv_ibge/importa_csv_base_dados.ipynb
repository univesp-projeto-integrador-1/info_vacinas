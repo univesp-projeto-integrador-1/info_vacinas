{
 "cells": [
  {
   "cell_type": "code",
   "execution_count": 5,
   "id": "included-pharmacology",
   "metadata": {},
   "outputs": [
    {
     "data": {
      "text/plain": [
       "True"
      ]
     },
     "execution_count": 5,
     "metadata": {},
     "output_type": "execute_result"
    }
   ],
   "source": [
    "import pandas as pd\n",
    "import os\n",
    "from sqlalchemy import create_engine\n",
    "from dotenv import load_dotenv\n",
    "load_dotenv()"
   ]
  },
  {
   "cell_type": "code",
   "execution_count": 6,
   "id": "dying-bridges",
   "metadata": {},
   "outputs": [
    {
     "name": "stdout",
     "output_type": "stream",
     "text": [
      "<class 'pandas.core.frame.DataFrame'>\n",
      "RangeIndex: 42807 entries, 0 to 42806\n",
      "Data columns (total 8 columns):\n",
      " #   Column      Non-Null Count  Dtype \n",
      "---  ------      --------------  ----- \n",
      " 0   CNES        42807 non-null  int64 \n",
      " 1   UF          42807 non-null  int64 \n",
      " 2   IBGE        42807 non-null  int64 \n",
      " 3   NOME        42806 non-null  object\n",
      " 4   LOGRADOURO  42807 non-null  object\n",
      " 5   BAIRRO      42807 non-null  object\n",
      " 6   LATITUDE    40636 non-null  object\n",
      " 7   LONGITUDE   40641 non-null  object\n",
      "dtypes: int64(3), object(5)\n",
      "memory usage: 2.6+ MB\n"
     ]
    }
   ],
   "source": [
    "df = pd.read_csv('cadastro_estabelecimentos_cnes.csv', sep=\";\")\n",
    "df.info()"
   ]
  },
  {
   "cell_type": "code",
   "execution_count": 7,
   "id": "dominican-newsletter",
   "metadata": {},
   "outputs": [
    {
     "data": {
      "text/html": [
       "<div>\n",
       "<style scoped>\n",
       "    .dataframe tbody tr th:only-of-type {\n",
       "        vertical-align: middle;\n",
       "    }\n",
       "\n",
       "    .dataframe tbody tr th {\n",
       "        vertical-align: top;\n",
       "    }\n",
       "\n",
       "    .dataframe thead th {\n",
       "        text-align: right;\n",
       "    }\n",
       "</style>\n",
       "<table border=\"1\" class=\"dataframe\">\n",
       "  <thead>\n",
       "    <tr style=\"text-align: right;\">\n",
       "      <th></th>\n",
       "      <th>CNES</th>\n",
       "      <th>UF</th>\n",
       "      <th>IBGE</th>\n",
       "      <th>NOME</th>\n",
       "      <th>LOGRADOURO</th>\n",
       "      <th>BAIRRO</th>\n",
       "      <th>LATITUDE</th>\n",
       "      <th>LONGITUDE</th>\n",
       "    </tr>\n",
       "  </thead>\n",
       "  <tbody>\n",
       "    <tr>\n",
       "      <th>0</th>\n",
       "      <td>33820</td>\n",
       "      <td>52</td>\n",
       "      <td>520170</td>\n",
       "      <td>UNIDADE DE SAUDE DA FAMILIA PSF 307</td>\n",
       "      <td>RUA H</td>\n",
       "      <td>NOVO MUNDO</td>\n",
       "      <td>-15,90682</td>\n",
       "      <td>-52,22545</td>\n",
       "    </tr>\n",
       "    <tr>\n",
       "      <th>1</th>\n",
       "      <td>108</td>\n",
       "      <td>26</td>\n",
       "      <td>260290</td>\n",
       "      <td>USF ALTO DOS INDIOS</td>\n",
       "      <td>RUA 17</td>\n",
       "      <td>PONTE DOS CARVALHOS</td>\n",
       "      <td>-8,28389</td>\n",
       "      <td>-35,0321</td>\n",
       "    </tr>\n",
       "    <tr>\n",
       "      <th>2</th>\n",
       "      <td>116</td>\n",
       "      <td>26</td>\n",
       "      <td>260290</td>\n",
       "      <td>USF CHARNECA II</td>\n",
       "      <td>RUA 02</td>\n",
       "      <td>CHARNECA</td>\n",
       "      <td>-8,28353</td>\n",
       "      <td>-35,02819</td>\n",
       "    </tr>\n",
       "    <tr>\n",
       "      <th>3</th>\n",
       "      <td>124</td>\n",
       "      <td>26</td>\n",
       "      <td>260290</td>\n",
       "      <td>USF SAO FRANCISCO I</td>\n",
       "      <td>RUA MANOEL DOMINGOS BARROS</td>\n",
       "      <td>SAO FRANCISCO</td>\n",
       "      <td>-8,287</td>\n",
       "      <td>-35,035</td>\n",
       "    </tr>\n",
       "    <tr>\n",
       "      <th>4</th>\n",
       "      <td>132</td>\n",
       "      <td>26</td>\n",
       "      <td>260290</td>\n",
       "      <td>USF ROSARIO</td>\n",
       "      <td>RUA 01</td>\n",
       "      <td>ROSARIO</td>\n",
       "      <td>-8,28389</td>\n",
       "      <td>-35,0321</td>\n",
       "    </tr>\n",
       "  </tbody>\n",
       "</table>\n",
       "</div>"
      ],
      "text/plain": [
       "    CNES  UF    IBGE                                 NOME  \\\n",
       "0  33820  52  520170  UNIDADE DE SAUDE DA FAMILIA PSF 307   \n",
       "1    108  26  260290                  USF ALTO DOS INDIOS   \n",
       "2    116  26  260290                      USF CHARNECA II   \n",
       "3    124  26  260290                  USF SAO FRANCISCO I   \n",
       "4    132  26  260290                          USF ROSARIO   \n",
       "\n",
       "                   LOGRADOURO               BAIRRO   LATITUDE  LONGITUDE  \n",
       "0                       RUA H           NOVO MUNDO  -15,90682  -52,22545  \n",
       "1                      RUA 17  PONTE DOS CARVALHOS   -8,28389   -35,0321  \n",
       "2                      RUA 02             CHARNECA   -8,28353  -35,02819  \n",
       "3  RUA MANOEL DOMINGOS BARROS        SAO FRANCISCO     -8,287    -35,035  \n",
       "4                      RUA 01              ROSARIO   -8,28389   -35,0321  "
      ]
     },
     "execution_count": 7,
     "metadata": {},
     "output_type": "execute_result"
    }
   ],
   "source": [
    "df.head()"
   ]
  },
  {
   "cell_type": "code",
   "execution_count": 8,
   "id": "interpreted-oasis",
   "metadata": {},
   "outputs": [
    {
     "name": "stdout",
     "output_type": "stream",
     "text": [
      "Registros salvos com sucesso\n"
     ]
    }
   ],
   "source": [
    "engine = create_engine(os.environ.get('DATABASE_URL'))\n",
    "df.head(8000).to_sql('cadastro_estabelecimentos_cnes', engine, if_exists='replace', chunksize=500, method='multi')\n",
    "print('Registros salvos com sucesso')"
   ]
  }
 ],
 "metadata": {
  "kernelspec": {
   "display_name": "Python 3",
   "language": "python",
   "name": "python3"
  },
  "language_info": {
   "codemirror_mode": {
    "name": "ipython",
    "version": 3
   },
   "file_extension": ".py",
   "mimetype": "text/x-python",
   "name": "python",
   "nbconvert_exporter": "python",
   "pygments_lexer": "ipython3",
   "version": "3.7.9"
  }
 },
 "nbformat": 4,
 "nbformat_minor": 5
}
