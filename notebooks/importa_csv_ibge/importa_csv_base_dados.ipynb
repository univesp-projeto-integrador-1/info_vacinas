{
 "cells": [
  {
   "cell_type": "code",
   "execution_count": 2,
   "id": "included-pharmacology",
   "metadata": {},
   "outputs": [
    {
     "data": {
      "text/plain": [
       "True"
      ]
     },
     "execution_count": 2,
     "metadata": {},
     "output_type": "execute_result"
    }
   ],
   "source": [
    "import pandas as pd\n",
    "import os\n",
    "from sqlalchemy import create_engine\n",
    "from dotenv import load_dotenv\n",
    "load_dotenv()"
   ]
  },
  {
   "cell_type": "code",
   "execution_count": 3,
   "id": "dying-bridges",
   "metadata": {},
   "outputs": [
    {
     "name": "stdout",
     "output_type": "stream",
     "text": [
      "<class 'pandas.core.frame.DataFrame'>\n",
      "RangeIndex: 5570 entries, 0 to 5569\n",
      "Data columns (total 13 columns):\n",
      " #   Column                                Non-Null Count  Dtype \n",
      "---  ------                                --------------  ----- \n",
      " 0   UF                                    5570 non-null   int64 \n",
      " 1   Nome_UF                               5570 non-null   object\n",
      " 2   Região Geográfica Intermediária       5570 non-null   int64 \n",
      " 3   Nome Região Geográfica Intermediária  5570 non-null   object\n",
      " 4   Região Geográfica Imediata            5570 non-null   int64 \n",
      " 5   Nome Região Geográfica Imediata       5570 non-null   object\n",
      " 6   Mesorregião Geográfica                5570 non-null   int64 \n",
      " 7   Nome_Mesorregião                      5570 non-null   object\n",
      " 8   Microrregião Geográfica               5570 non-null   int64 \n",
      " 9   Nome_Microrregião                     5570 non-null   object\n",
      " 10  Município                             5570 non-null   int64 \n",
      " 11  Código Município Completo             5570 non-null   int64 \n",
      " 12  Nome_Município                        5570 non-null   object\n",
      "dtypes: int64(7), object(6)\n",
      "memory usage: 565.8+ KB\n"
     ]
    }
   ],
   "source": [
    "df = pd.read_excel('RELATORIO_DTB_BRASIL_MUNICIPIO.xls')\n",
    "df.info()"
   ]
  },
  {
   "cell_type": "code",
   "execution_count": 4,
   "id": "dominican-newsletter",
   "metadata": {},
   "outputs": [
    {
     "data": {
      "text/html": [
       "<div>\n",
       "<style scoped>\n",
       "    .dataframe tbody tr th:only-of-type {\n",
       "        vertical-align: middle;\n",
       "    }\n",
       "\n",
       "    .dataframe tbody tr th {\n",
       "        vertical-align: top;\n",
       "    }\n",
       "\n",
       "    .dataframe thead th {\n",
       "        text-align: right;\n",
       "    }\n",
       "</style>\n",
       "<table border=\"1\" class=\"dataframe\">\n",
       "  <thead>\n",
       "    <tr style=\"text-align: right;\">\n",
       "      <th></th>\n",
       "      <th>UF</th>\n",
       "      <th>Nome_UF</th>\n",
       "      <th>Região Geográfica Intermediária</th>\n",
       "      <th>Nome Região Geográfica Intermediária</th>\n",
       "      <th>Região Geográfica Imediata</th>\n",
       "      <th>Nome Região Geográfica Imediata</th>\n",
       "      <th>Mesorregião Geográfica</th>\n",
       "      <th>Nome_Mesorregião</th>\n",
       "      <th>Microrregião Geográfica</th>\n",
       "      <th>Nome_Microrregião</th>\n",
       "      <th>Município</th>\n",
       "      <th>Código Município Completo</th>\n",
       "      <th>Nome_Município</th>\n",
       "    </tr>\n",
       "  </thead>\n",
       "  <tbody>\n",
       "    <tr>\n",
       "      <th>0</th>\n",
       "      <td>11</td>\n",
       "      <td>Rondônia</td>\n",
       "      <td>1102</td>\n",
       "      <td>Ji-Paraná</td>\n",
       "      <td>110005</td>\n",
       "      <td>Cacoal</td>\n",
       "      <td>2</td>\n",
       "      <td>Leste Rondoniense</td>\n",
       "      <td>6</td>\n",
       "      <td>Cacoal</td>\n",
       "      <td>15</td>\n",
       "      <td>1100015</td>\n",
       "      <td>Alta Floresta D'Oeste</td>\n",
       "    </tr>\n",
       "    <tr>\n",
       "      <th>1</th>\n",
       "      <td>11</td>\n",
       "      <td>Rondônia</td>\n",
       "      <td>1102</td>\n",
       "      <td>Ji-Paraná</td>\n",
       "      <td>110005</td>\n",
       "      <td>Cacoal</td>\n",
       "      <td>2</td>\n",
       "      <td>Leste Rondoniense</td>\n",
       "      <td>6</td>\n",
       "      <td>Cacoal</td>\n",
       "      <td>379</td>\n",
       "      <td>1100379</td>\n",
       "      <td>Alto Alegre dos Parecis</td>\n",
       "    </tr>\n",
       "    <tr>\n",
       "      <th>2</th>\n",
       "      <td>11</td>\n",
       "      <td>Rondônia</td>\n",
       "      <td>1101</td>\n",
       "      <td>Porto Velho</td>\n",
       "      <td>110002</td>\n",
       "      <td>Ariquemes</td>\n",
       "      <td>2</td>\n",
       "      <td>Leste Rondoniense</td>\n",
       "      <td>3</td>\n",
       "      <td>Ariquemes</td>\n",
       "      <td>403</td>\n",
       "      <td>1100403</td>\n",
       "      <td>Alto Paraíso</td>\n",
       "    </tr>\n",
       "    <tr>\n",
       "      <th>3</th>\n",
       "      <td>11</td>\n",
       "      <td>Rondônia</td>\n",
       "      <td>1102</td>\n",
       "      <td>Ji-Paraná</td>\n",
       "      <td>110004</td>\n",
       "      <td>Ji-Paraná</td>\n",
       "      <td>2</td>\n",
       "      <td>Leste Rondoniense</td>\n",
       "      <td>5</td>\n",
       "      <td>Alvorada D'Oeste</td>\n",
       "      <td>346</td>\n",
       "      <td>1100346</td>\n",
       "      <td>Alvorada D'Oeste</td>\n",
       "    </tr>\n",
       "    <tr>\n",
       "      <th>4</th>\n",
       "      <td>11</td>\n",
       "      <td>Rondônia</td>\n",
       "      <td>1101</td>\n",
       "      <td>Porto Velho</td>\n",
       "      <td>110002</td>\n",
       "      <td>Ariquemes</td>\n",
       "      <td>2</td>\n",
       "      <td>Leste Rondoniense</td>\n",
       "      <td>3</td>\n",
       "      <td>Ariquemes</td>\n",
       "      <td>23</td>\n",
       "      <td>1100023</td>\n",
       "      <td>Ariquemes</td>\n",
       "    </tr>\n",
       "  </tbody>\n",
       "</table>\n",
       "</div>"
      ],
      "text/plain": [
       "   UF   Nome_UF  Região Geográfica Intermediária  \\\n",
       "0  11  Rondônia                             1102   \n",
       "1  11  Rondônia                             1102   \n",
       "2  11  Rondônia                             1101   \n",
       "3  11  Rondônia                             1102   \n",
       "4  11  Rondônia                             1101   \n",
       "\n",
       "  Nome Região Geográfica Intermediária  Região Geográfica Imediata  \\\n",
       "0                            Ji-Paraná                      110005   \n",
       "1                            Ji-Paraná                      110005   \n",
       "2                          Porto Velho                      110002   \n",
       "3                            Ji-Paraná                      110004   \n",
       "4                          Porto Velho                      110002   \n",
       "\n",
       "  Nome Região Geográfica Imediata  Mesorregião Geográfica   Nome_Mesorregião  \\\n",
       "0                          Cacoal                       2  Leste Rondoniense   \n",
       "1                          Cacoal                       2  Leste Rondoniense   \n",
       "2                       Ariquemes                       2  Leste Rondoniense   \n",
       "3                       Ji-Paraná                       2  Leste Rondoniense   \n",
       "4                       Ariquemes                       2  Leste Rondoniense   \n",
       "\n",
       "   Microrregião Geográfica Nome_Microrregião  Município  \\\n",
       "0                        6            Cacoal         15   \n",
       "1                        6            Cacoal        379   \n",
       "2                        3         Ariquemes        403   \n",
       "3                        5  Alvorada D'Oeste        346   \n",
       "4                        3         Ariquemes         23   \n",
       "\n",
       "   Código Município Completo           Nome_Município  \n",
       "0                    1100015    Alta Floresta D'Oeste  \n",
       "1                    1100379  Alto Alegre dos Parecis  \n",
       "2                    1100403             Alto Paraíso  \n",
       "3                    1100346         Alvorada D'Oeste  \n",
       "4                    1100023                Ariquemes  "
      ]
     },
     "execution_count": 4,
     "metadata": {},
     "output_type": "execute_result"
    }
   ],
   "source": [
    "df.head()"
   ]
  },
  {
   "cell_type": "code",
   "execution_count": 7,
   "id": "interpreted-oasis",
   "metadata": {},
   "outputs": [
    {
     "name": "stdout",
     "output_type": "stream",
     "text": [
      "Registros salvos com sucesso\n"
     ]
    }
   ],
   "source": [
    "engine = create_engine(os.environ.get('DATABASE_URL_SQL_SERVER'))\n",
    "df.to_sql('ibge_municipios_brasil', engine, if_exists='replace', chunksize=500, schema='dbo')\n",
    "print('Registros salvos com sucesso')"
   ]
  },
  {
   "cell_type": "code",
   "execution_count": null,
   "id": "324edc43",
   "metadata": {},
   "outputs": [],
   "source": []
  }
 ],
 "metadata": {
  "interpreter": {
   "hash": "3f1fa92065e83bf8b3f9b5096216ce92755ea229f7fd6780b8b3e0f199343520"
  },
  "kernelspec": {
   "display_name": "Python 3.7.9 ('base')",
   "language": "python",
   "name": "python3"
  },
  "language_info": {
   "codemirror_mode": {
    "name": "ipython",
    "version": 3
   },
   "file_extension": ".py",
   "mimetype": "text/x-python",
   "name": "python",
   "nbconvert_exporter": "python",
   "pygments_lexer": "ipython3",
   "version": "3.7.9"
  }
 },
 "nbformat": 4,
 "nbformat_minor": 5
}
