{
 "cells": [
  {
   "cell_type": "code",
   "execution_count": 1,
   "id": "included-pharmacology",
   "metadata": {},
   "outputs": [
    {
     "data": {
      "text/plain": [
       "True"
      ]
     },
     "execution_count": 1,
     "metadata": {},
     "output_type": "execute_result"
    }
   ],
   "source": [
    "import pandas as pd\n",
    "import os\n",
    "from sqlalchemy import create_engine\n",
    "from dotenv import load_dotenv\n",
    "load_dotenv()"
   ]
  },
  {
   "cell_type": "code",
   "execution_count": 4,
   "id": "dying-bridges",
   "metadata": {},
   "outputs": [
    {
     "ename": "TypeError",
     "evalue": "read_excel() got an unexpected keyword argument 'index'",
     "output_type": "error",
     "traceback": [
      "\u001b[0;31m---------------------------------------------------------------------------\u001b[0m",
      "\u001b[0;31mTypeError\u001b[0m                                 Traceback (most recent call last)",
      "\u001b[0;32m<ipython-input-4-95f061295276>\u001b[0m in \u001b[0;36m<module>\u001b[0;34m\u001b[0m\n\u001b[0;32m----> 1\u001b[0;31m \u001b[0mdf\u001b[0m \u001b[0;34m=\u001b[0m \u001b[0mpd\u001b[0m\u001b[0;34m.\u001b[0m\u001b[0mread_excel\u001b[0m\u001b[0;34m(\u001b[0m\u001b[0;34m'postos_resultSP.xlsx'\u001b[0m\u001b[0;34m,\u001b[0m \u001b[0mindex\u001b[0m\u001b[0;34m=\u001b[0m\u001b[0;32mFalse\u001b[0m\u001b[0;34m)\u001b[0m\u001b[0;34m\u001b[0m\u001b[0;34m\u001b[0m\u001b[0m\n\u001b[0m\u001b[1;32m      2\u001b[0m \u001b[0mdf\u001b[0m\u001b[0;34m.\u001b[0m\u001b[0minfo\u001b[0m\u001b[0;34m(\u001b[0m\u001b[0;34m)\u001b[0m\u001b[0;34m\u001b[0m\u001b[0;34m\u001b[0m\u001b[0m\n",
      "\u001b[0;32m~/anaconda3/lib/python3.7/site-packages/pandas/util/_decorators.py\u001b[0m in \u001b[0;36mwrapper\u001b[0;34m(*args, **kwargs)\u001b[0m\n\u001b[1;32m    297\u001b[0m                 )\n\u001b[1;32m    298\u001b[0m                 \u001b[0mwarnings\u001b[0m\u001b[0;34m.\u001b[0m\u001b[0mwarn\u001b[0m\u001b[0;34m(\u001b[0m\u001b[0mmsg\u001b[0m\u001b[0;34m,\u001b[0m \u001b[0mFutureWarning\u001b[0m\u001b[0;34m,\u001b[0m \u001b[0mstacklevel\u001b[0m\u001b[0;34m=\u001b[0m\u001b[0mstacklevel\u001b[0m\u001b[0;34m)\u001b[0m\u001b[0;34m\u001b[0m\u001b[0;34m\u001b[0m\u001b[0m\n\u001b[0;32m--> 299\u001b[0;31m             \u001b[0;32mreturn\u001b[0m \u001b[0mfunc\u001b[0m\u001b[0;34m(\u001b[0m\u001b[0;34m*\u001b[0m\u001b[0margs\u001b[0m\u001b[0;34m,\u001b[0m \u001b[0;34m**\u001b[0m\u001b[0mkwargs\u001b[0m\u001b[0;34m)\u001b[0m\u001b[0;34m\u001b[0m\u001b[0;34m\u001b[0m\u001b[0m\n\u001b[0m\u001b[1;32m    300\u001b[0m \u001b[0;34m\u001b[0m\u001b[0m\n\u001b[1;32m    301\u001b[0m         \u001b[0;32mreturn\u001b[0m \u001b[0mwrapper\u001b[0m\u001b[0;34m\u001b[0m\u001b[0;34m\u001b[0m\u001b[0m\n",
      "\u001b[0;31mTypeError\u001b[0m: read_excel() got an unexpected keyword argument 'index'"
     ]
    }
   ],
   "source": [
    "df = pd.read_excel('postos_resultSP.xlsx')\n",
    "df.info()"
   ]
  },
  {
   "cell_type": "code",
   "execution_count": 5,
   "id": "dominican-newsletter",
   "metadata": {},
   "outputs": [
    {
     "data": {
      "text/html": [
       "<div>\n",
       "<style scoped>\n",
       "    .dataframe tbody tr th:only-of-type {\n",
       "        vertical-align: middle;\n",
       "    }\n",
       "\n",
       "    .dataframe tbody tr th {\n",
       "        vertical-align: top;\n",
       "    }\n",
       "\n",
       "    .dataframe thead th {\n",
       "        text-align: right;\n",
       "    }\n",
       "</style>\n",
       "<table border=\"1\" class=\"dataframe\">\n",
       "  <thead>\n",
       "    <tr style=\"text-align: right;\">\n",
       "      <th></th>\n",
       "      <th>Unnamed: 0</th>\n",
       "      <th>UF</th>\n",
       "      <th>MUNICÍPIO</th>\n",
       "      <th>ESTABELECIMENTO</th>\n",
       "      <th>LOGRADOURO</th>\n",
       "      <th>NÚMERO</th>\n",
       "      <th>BAIRRO</th>\n",
       "      <th>END_COMPLETO</th>\n",
       "      <th>END_GEO</th>\n",
       "      <th>point</th>\n",
       "    </tr>\n",
       "  </thead>\n",
       "  <tbody>\n",
       "    <tr>\n",
       "      <th>0</th>\n",
       "      <td>2707</td>\n",
       "      <td>SP</td>\n",
       "      <td>NOVO HORIZONTE</td>\n",
       "      <td>PSM VALE FORMOSO NOVO HORIZONTE</td>\n",
       "      <td>RUA BANDEIRANTES</td>\n",
       "      <td>S/N</td>\n",
       "      <td>VALE FORMOSO</td>\n",
       "      <td>RUA BANDEIRANTES, NOVO HORIZONTE - SP - BRAZIL</td>\n",
       "      <td>Rua Bandeirantes, Parque das Gaivotas, Novo Ho...</td>\n",
       "      <td>(-18.6728592, -48.1762311, 0.0)</td>\n",
       "    </tr>\n",
       "    <tr>\n",
       "      <th>1</th>\n",
       "      <td>3200</td>\n",
       "      <td>SP</td>\n",
       "      <td>POPULINA</td>\n",
       "      <td>CS DE POPULINA</td>\n",
       "      <td>RUA CEARA</td>\n",
       "      <td>1408</td>\n",
       "      <td>CENTRO</td>\n",
       "      <td>RUA CEARA, 1408,POPULINA - SP - BRAZIL</td>\n",
       "      <td>Rua Ceará, Populina, Região Imediata de Jales,...</td>\n",
       "      <td>(-19.9413115, -50.5374876, 0.0)</td>\n",
       "    </tr>\n",
       "    <tr>\n",
       "      <th>2</th>\n",
       "      <td>2455</td>\n",
       "      <td>SP</td>\n",
       "      <td>MESOPOLIS</td>\n",
       "      <td>UBS DE MESOPOLIS</td>\n",
       "      <td>RUA DIREITOS HUMANOS</td>\n",
       "      <td>2164</td>\n",
       "      <td>BOA ESPERANCA</td>\n",
       "      <td>RUA DIREITOS HUMANOS, 2164,MESOPOLIS - SP - BR...</td>\n",
       "      <td>Rua Direitos Humanos, Mesópolis, Região Imedia...</td>\n",
       "      <td>(-19.9678134, -50.6231545, 0.0)</td>\n",
       "    </tr>\n",
       "    <tr>\n",
       "      <th>3</th>\n",
       "      <td>2808</td>\n",
       "      <td>SP</td>\n",
       "      <td>OUROESTE</td>\n",
       "      <td>UBS JARDIM SARINHA</td>\n",
       "      <td>AV DOS BANDEIRANTES</td>\n",
       "      <td>2330</td>\n",
       "      <td>CENTRO</td>\n",
       "      <td>AV DOS BANDEIRANTES, 2330,OUROESTE - SP - BRAZIL</td>\n",
       "      <td>Avenida dos Bandeirantes, Ouroeste, Região Ime...</td>\n",
       "      <td>(-19.9862582, -50.3810002, 0.0)</td>\n",
       "    </tr>\n",
       "    <tr>\n",
       "      <th>4</th>\n",
       "      <td>2809</td>\n",
       "      <td>SP</td>\n",
       "      <td>OUROESTE</td>\n",
       "      <td>UBS NELSON RODRIGUES</td>\n",
       "      <td>MARTINS DE SA</td>\n",
       "      <td>700</td>\n",
       "      <td>CENTRO</td>\n",
       "      <td>MARTINS DE SA, 700,OUROESTE - SP - BRAZIL</td>\n",
       "      <td>Rua Martins de Sá, Ouroeste, Região Imediata d...</td>\n",
       "      <td>(-19.9983605, -50.3735337, 0.0)</td>\n",
       "    </tr>\n",
       "  </tbody>\n",
       "</table>\n",
       "</div>"
      ],
      "text/plain": [
       "   Unnamed: 0  UF       MUNICÍPIO                  ESTABELECIMENTO  \\\n",
       "0        2707  SP  NOVO HORIZONTE  PSM VALE FORMOSO NOVO HORIZONTE   \n",
       "1        3200  SP        POPULINA                   CS DE POPULINA   \n",
       "2        2455  SP       MESOPOLIS                 UBS DE MESOPOLIS   \n",
       "3        2808  SP        OUROESTE               UBS JARDIM SARINHA   \n",
       "4        2809  SP        OUROESTE             UBS NELSON RODRIGUES   \n",
       "\n",
       "             LOGRADOURO NÚMERO         BAIRRO  \\\n",
       "0      RUA BANDEIRANTES    S/N   VALE FORMOSO   \n",
       "1             RUA CEARA   1408         CENTRO   \n",
       "2  RUA DIREITOS HUMANOS   2164  BOA ESPERANCA   \n",
       "3   AV DOS BANDEIRANTES   2330         CENTRO   \n",
       "4         MARTINS DE SA    700         CENTRO   \n",
       "\n",
       "                                        END_COMPLETO  \\\n",
       "0     RUA BANDEIRANTES, NOVO HORIZONTE - SP - BRAZIL   \n",
       "1             RUA CEARA, 1408,POPULINA - SP - BRAZIL   \n",
       "2  RUA DIREITOS HUMANOS, 2164,MESOPOLIS - SP - BR...   \n",
       "3   AV DOS BANDEIRANTES, 2330,OUROESTE - SP - BRAZIL   \n",
       "4          MARTINS DE SA, 700,OUROESTE - SP - BRAZIL   \n",
       "\n",
       "                                             END_GEO  \\\n",
       "0  Rua Bandeirantes, Parque das Gaivotas, Novo Ho...   \n",
       "1  Rua Ceará, Populina, Região Imediata de Jales,...   \n",
       "2  Rua Direitos Humanos, Mesópolis, Região Imedia...   \n",
       "3  Avenida dos Bandeirantes, Ouroeste, Região Ime...   \n",
       "4  Rua Martins de Sá, Ouroeste, Região Imediata d...   \n",
       "\n",
       "                             point  \n",
       "0  (-18.6728592, -48.1762311, 0.0)  \n",
       "1  (-19.9413115, -50.5374876, 0.0)  \n",
       "2  (-19.9678134, -50.6231545, 0.0)  \n",
       "3  (-19.9862582, -50.3810002, 0.0)  \n",
       "4  (-19.9983605, -50.3735337, 0.0)  "
      ]
     },
     "execution_count": 5,
     "metadata": {},
     "output_type": "execute_result"
    }
   ],
   "source": [
    "df.head()"
   ]
  },
  {
   "cell_type": "code",
   "execution_count": 7,
   "id": "interpreted-oasis",
   "metadata": {},
   "outputs": [],
   "source": [
    "engine = create_engine(os.environ.get('DATABASE_URL_SQL_SERVER'))\n",
    "df.to_sql('postos_resultSP', engine, if_exists='replace', chunksize=500, schema='dbo')\n",
    "print('Registros salvos com sucesso')"
   ]
  },
  {
   "cell_type": "code",
   "execution_count": null,
   "id": "90a6f419",
   "metadata": {},
   "outputs": [],
   "source": []
  }
 ],
 "metadata": {
  "kernelspec": {
   "display_name": "Python 3.7.9 ('base')",
   "language": "python",
   "name": "python3"
  },
  "language_info": {
   "codemirror_mode": {
    "name": "ipython",
    "version": 3
   },
   "file_extension": ".py",
   "mimetype": "text/x-python",
   "name": "python",
   "nbconvert_exporter": "python",
   "pygments_lexer": "ipython3",
   "version": "3.7.9"
  },
  "vscode": {
   "interpreter": {
    "hash": "3f1fa92065e83bf8b3f9b5096216ce92755ea229f7fd6780b8b3e0f199343520"
   }
  }
 },
 "nbformat": 4,
 "nbformat_minor": 5
}
